{
 "cells": [
  {
   "cell_type": "code",
   "execution_count": 10,
   "source": [
    "#numpy basics\r\n",
    "\r\n",
    "import numpy as np\r\n",
    "\r\n",
    "a = np.array([1,3,6])\r\n",
    "\r\n",
    "print(a)\r\n",
    "print(a.shape)\r\n",
    "print(a.dtype)\r\n",
    "print(a.size)"
   ],
   "outputs": [
    {
     "output_type": "stream",
     "name": "stdout",
     "text": [
      "[1 3 6]\n",
      "(3,)\n",
      "int32\n",
      "3\n"
     ]
    }
   ],
   "metadata": {}
  },
  {
   "cell_type": "code",
   "execution_count": 5,
   "source": [
    "b = a * np.array([2, 0, 4])\r\n",
    "print(b)"
   ],
   "outputs": [
    {
     "output_type": "stream",
     "name": "stdout",
     "text": [
      "[ 2  0 24]\n"
     ]
    }
   ],
   "metadata": {}
  },
  {
   "cell_type": "code",
   "execution_count": 12,
   "source": [
    "l = [1,2,3]\r\n",
    "l.append(4)\r\n",
    "print(l)\r\n",
    "\r\n",
    "a += np.array([4])\r\n",
    "print(a)"
   ],
   "outputs": [
    {
     "output_type": "stream",
     "name": "stdout",
     "text": [
      "[1, 2, 3, 4]\n",
      "[ 9 11 14]\n"
     ]
    }
   ],
   "metadata": {}
  },
  {
   "cell_type": "code",
   "execution_count": 16,
   "source": [
    "#dot product\r\n",
    "\r\n",
    "l1 = [1, 2, 3]\r\n",
    "l2 = [4, 5, 6]\r\n",
    "\r\n",
    "a1 = np.array(l1)\r\n",
    "a2 = np.array(l2)\r\n",
    "\r\n",
    "dot = a1 * a2\r\n",
    "\r\n",
    "print(dot)\r\n",
    "\r\n",
    "sum = np.sum(dot)\r\n",
    "\r\n",
    "print(sum)\r\n",
    "\r\n",
    "print(a1 @ a2)"
   ],
   "outputs": [
    {
     "output_type": "stream",
     "name": "stdout",
     "text": [
      "[ 4 10 18]\n",
      "32\n",
      "32\n"
     ]
    }
   ],
   "metadata": {}
  },
  {
   "cell_type": "code",
   "execution_count": 23,
   "source": [
    "a = np.array([[1,2,4], [3,6,9], [4, 12, 16]])\r\n",
    "\r\n",
    "print(a)\r\n",
    "print(a.shape)\r\n",
    "print(a.T)\r\n",
    "\r\n",
    "print(np.linalg.inv(a))\r\n",
    "\r\n",
    "print(np.linalg.det(a))\r\n",
    "\r\n",
    "print(np.diag(a))"
   ],
   "outputs": [
    {
     "output_type": "stream",
     "name": "stdout",
     "text": [
      "[[ 1  2  4]\n",
      " [ 3  6  9]\n",
      " [ 4 12 16]]\n",
      "(3, 3)\n",
      "[[ 1  3  4]\n",
      " [ 2  6 12]\n",
      " [ 4  9 16]]\n",
      "[[-1.00000000e+00  1.33333333e+00 -5.00000000e-01]\n",
      " [-1.00000000e+00 -1.85037171e-17  2.50000000e-01]\n",
      " [ 1.00000000e+00 -3.33333333e-01 -1.38777878e-17]]\n",
      "12.0\n",
      "[ 1  6 16]\n"
     ]
    }
   ],
   "metadata": {}
  },
  {
   "cell_type": "code",
   "execution_count": 33,
   "source": [
    "b1 = np.array([[1,2,3,4,5,6], [2,2,3,3,5,5]])\r\n",
    "\r\n",
    "b2 = b1[:, 2]\r\n",
    "\r\n",
    "print(b2)\r\n",
    "\r\n",
    "b3 = b1 > 3\r\n",
    "print(b3)\r\n",
    "\r\n",
    "b4 = b1[b1>3]\r\n",
    "print(b4)\r\n",
    "\r\n",
    "b5 = np.where(b1>=3, b1, 0)\r\n",
    "print(b5)"
   ],
   "outputs": [
    {
     "output_type": "stream",
     "name": "stdout",
     "text": [
      "[3 3]\n",
      "[[False False False  True  True  True]\n",
      " [False False False False  True  True]]\n",
      "[4 5 6 5 5]\n",
      "[[0 0 3 4 5 6]\n",
      " [0 0 3 3 5 5]]\n"
     ]
    }
   ],
   "metadata": {}
  },
  {
   "cell_type": "code",
   "execution_count": 44,
   "source": [
    "c1 = np.array([1,2,3,4,5,6,7,8])\r\n",
    "\r\n",
    "c2 = [2,4,6]\r\n",
    "print(c1[c2])\r\n",
    "\r\n",
    "even = np.argwhere(c1%2 == 0)\r\n",
    "print(\"---------------\")\r\n",
    "print(c1)\r\n",
    "print(even)\r\n",
    "print(c1[even.flatten()])\r\n",
    "print(\"---------------\")\r\n",
    "\r\n",
    "b1 = np.array([[1,2,3,4,5,6], [2,2,3,3,5,5]])\r\n",
    "\r\n",
    "even = np.argwhere(b1%2 == 0)\r\n",
    "print(even)\r\n",
    "#doubt how to get even in 2d array\r\n",
    "# print(b1[even.flatten()])"
   ],
   "outputs": [
    {
     "output_type": "stream",
     "name": "stdout",
     "text": [
      "[3 5 7]\n",
      "---------------\n",
      "[1 2 3 4 5 6 7 8]\n",
      "[[1]\n",
      " [3]\n",
      " [5]\n",
      " [7]]\n",
      "[2 4 6 8]\n",
      "---------------\n",
      "[[0 1]\n",
      " [0 3]\n",
      " [0 5]\n",
      " [1 0]\n",
      " [1 1]]\n"
     ]
    }
   ],
   "metadata": {}
  },
  {
   "cell_type": "code",
   "execution_count": 49,
   "source": [
    "a = np.arange(0,8)\r\n",
    "\r\n",
    "print(a)\r\n",
    "print(a.shape)\r\n",
    "\r\n",
    "b = a.reshape((2,4))\r\n",
    "print(b)\r\n",
    "print(b.shape)\r\n",
    "\r\n",
    "c = a[np.newaxis, :]\r\n",
    "print(c)\r\n",
    "print(c.shape)\r\n",
    "\r\n",
    "d = a[:, np.newaxis]\r\n",
    "print(d)\r\n",
    "print(d.shape)"
   ],
   "outputs": [
    {
     "output_type": "stream",
     "name": "stdout",
     "text": [
      "[0 1 2 3 4 5 6 7]\n",
      "(8,)\n",
      "[[0 1 2 3]\n",
      " [4 5 6 7]]\n",
      "(2, 4)\n",
      "[[0 1 2 3 4 5 6 7]]\n",
      "(1, 8)\n",
      "[[0]\n",
      " [1]\n",
      " [2]\n",
      " [3]\n",
      " [4]\n",
      " [5]\n",
      " [6]\n",
      " [7]]\n",
      "(8, 1)\n"
     ]
    }
   ],
   "metadata": {}
  },
  {
   "cell_type": "code",
   "execution_count": 56,
   "source": [
    "a = np.array([[1,2],[3,4]])\r\n",
    "b = np.array([[5,6]])\r\n",
    "\r\n",
    "c = np.concatenate((a,b))\r\n",
    "print(c)\r\n",
    "\r\n",
    "c = np.concatenate((a,b), axis = None)\r\n",
    "print(c)\r\n",
    "\r\n",
    "c = np.concatenate((a,b.T), axis = 1)\r\n",
    "print(c)"
   ],
   "outputs": [
    {
     "output_type": "stream",
     "name": "stdout",
     "text": [
      "[[1 2]\n",
      " [3 4]\n",
      " [5 6]]\n",
      "[1 2 3 4 5 6]\n",
      "[[1 2 5]\n",
      " [3 4 6]]\n"
     ]
    }
   ],
   "metadata": {}
  },
  {
   "cell_type": "code",
   "execution_count": 59,
   "source": [
    "a = np.array([1,2,3,4])\r\n",
    "b = np.array([5,6,7,8])\r\n",
    "\r\n",
    "c = np.hstack((a,b))\r\n",
    "print(c)\r\n",
    "d = np.vstack((a,b))\r\n",
    "print(d)"
   ],
   "outputs": [
    {
     "output_type": "stream",
     "name": "stdout",
     "text": [
      "[1 2 3 4 5 6 7 8]\n",
      "[[1 2 3 4]\n",
      " [5 6 7 8]]\n"
     ]
    }
   ],
   "metadata": {}
  },
  {
   "cell_type": "code",
   "execution_count": 61,
   "source": [
    "#broadcasting\r\n",
    "\r\n",
    "x = np.array([[1,2,3],[4,5,6]])\r\n",
    "\r\n",
    "y = np.array([1,1,1])\r\n",
    "\r\n",
    "print(x+y)"
   ],
   "outputs": [
    {
     "output_type": "stream",
     "name": "stdout",
     "text": [
      "[[2 3 4]\n",
      " [5 6 7]]\n"
     ]
    }
   ],
   "metadata": {}
  },
  {
   "cell_type": "code",
   "execution_count": 68,
   "source": [
    "a = np.array([[5,6,7,8,9], [15,16,17,18,19]])\r\n",
    "print(a)\r\n",
    "print(\"---------sum-----------\")\r\n",
    "print(a.sum(axis=None))\r\n",
    "print(a.sum(axis = 0))\r\n",
    "print(a.sum(axis = 1))\r\n",
    "print(\"---------mean-----------\")\r\n",
    "print(a.mean(axis=None))\r\n",
    "print(a.mean(axis = 0))\r\n",
    "print(a.mean(axis = 1))\r\n",
    "print(\"---------var-----------\")\r\n",
    "print(a.var(axis=None))\r\n",
    "print(a.var(axis = 0))\r\n",
    "print(a.var(axis = 1))\r\n",
    "print(\"---------std-----------\")\r\n",
    "print(a.std(axis=None))\r\n",
    "print(a.std(axis = 0))\r\n",
    "print(a.std(axis = 1))\r\n",
    "# simialrly min and max"
   ],
   "outputs": [
    {
     "output_type": "stream",
     "name": "stdout",
     "text": [
      "[[ 5  6  7  8  9]\n",
      " [15 16 17 18 19]]\n",
      "---------sum-----------\n",
      "120\n",
      "[20 22 24 26 28]\n",
      "[35 85]\n",
      "---------mean-----------\n",
      "12.0\n",
      "[10. 11. 12. 13. 14.]\n",
      "[ 7. 17.]\n",
      "---------var-----------\n",
      "27.0\n",
      "[25. 25. 25. 25. 25.]\n",
      "[2. 2.]\n",
      "---------std-----------\n",
      "5.196152422706632\n",
      "[5. 5. 5. 5. 5.]\n",
      "[1.41421356 1.41421356]\n"
     ]
    }
   ],
   "metadata": {}
  },
  {
   "cell_type": "code",
   "execution_count": 70,
   "source": [
    "x = np.array([1,2,3], dtype=np.int16)\r\n",
    "print(x)\r\n",
    "print(x.dtype)"
   ],
   "outputs": [
    {
     "output_type": "stream",
     "name": "stdout",
     "text": [
      "[1 2 3]\n",
      "int16\n"
     ]
    }
   ],
   "metadata": {}
  },
  {
   "cell_type": "code",
   "execution_count": 72,
   "source": [
    "#coping valus of array (default = is reference)\r\n",
    "\r\n",
    "a = np.array([4,7,9])\r\n",
    "b = a.copy()\r\n",
    "\r\n",
    "b[0] = 5\r\n",
    "\r\n",
    "print(a)\r\n",
    "print(b)"
   ],
   "outputs": [
    {
     "output_type": "stream",
     "name": "stdout",
     "text": [
      "[4 7 9]\n",
      "[5 7 9]\n"
     ]
    }
   ],
   "metadata": {}
  },
  {
   "cell_type": "code",
   "execution_count": 81,
   "source": [
    "#initializing arrays\r\n",
    "\r\n",
    "a = np.zeros((2,3))\r\n",
    "print(a)\r\n",
    "\r\n",
    "b = np.ones((3,4))\r\n",
    "print(b)\r\n",
    "\r\n",
    "c = np.full((2,3), 5.0)\r\n",
    "print(c)\r\n",
    "\r\n",
    "d = np.eye(4)\r\n",
    "print(d)\r\n",
    "\r\n",
    "e = np.arange(12)\r\n",
    "print(e) \r\n",
    "\r\n",
    "f = np.linspace(0, 10, 3)\r\n",
    "print(f)"
   ],
   "outputs": [
    {
     "output_type": "stream",
     "name": "stdout",
     "text": [
      "[[0. 0. 0.]\n",
      " [0. 0. 0.]]\n",
      "[[1. 1. 1. 1.]\n",
      " [1. 1. 1. 1.]\n",
      " [1. 1. 1. 1.]]\n",
      "[[5. 5. 5.]\n",
      " [5. 5. 5.]]\n",
      "[[1. 0. 0. 0.]\n",
      " [0. 1. 0. 0.]\n",
      " [0. 0. 1. 0.]\n",
      " [0. 0. 0. 1.]]\n",
      "[ 0  1  2  3  4  5  6  7  8  9 10 11]\n",
      "[ 0.  5. 10.]\n"
     ]
    }
   ],
   "metadata": {}
  },
  {
   "cell_type": "code",
   "execution_count": 90,
   "source": [
    "#random nos between 0 and 1\r\n",
    "print(\"-------- random nos between 0 and 1 -----------\")\r\n",
    "a = np.random.random((4,3))\r\n",
    "print(a) \r\n",
    "\r\n",
    "#normal/gaussian disribution numbers with mean 0 and variance 1\r\n",
    "print(\"-------- normal / gaussian disribution numbers with mean 0 and variance 1 -----------\")\r\n",
    "a = np.random.randn(4,3)\r\n",
    "print(a)\r\n",
    "print(a.mean(), a.var())\r\n",
    "\r\n",
    "# random 10 ints with start at 3 and end at 9-1\r\n",
    "print(\"-------- random ints with start at 3 and end at 9-1 -----------\")\r\n",
    "a = np.random.randint(3,9, size = 10)\r\n",
    "print(a)\r\n",
    "\r\n",
    "# random 10 ints with start at 0 and end at 9-1\r\n",
    "print(\"-------- random ints with start at 0 and end at 9-1 -----------\")\r\n",
    "a = np.random.choice(9, size = 10)\r\n",
    "print(a)\r\n",
    "\r\n",
    "# random 10 ints with in [0,2,4,6,8]\r\n",
    "print(\"-------- random ints in [0,2,4,6,8] -----------\")\r\n",
    "a = np.random.choice([0,2,4,6,8], size = 10)\r\n",
    "print(a)"
   ],
   "outputs": [
    {
     "output_type": "stream",
     "name": "stdout",
     "text": [
      "-------- random nos between 0 and 1 -----------\n",
      "[[0.47760585 0.66498562 0.19299302]\n",
      " [0.28980665 0.93830005 0.16351098]\n",
      " [0.25835048 0.1859048  0.44375639]\n",
      " [0.66535133 0.09351029 0.66943081]]\n",
      "-------- normal / gaussian disribution numbers with mean 0 and variance 1 -----------\n",
      "[[ 1.21954697 -2.74773637  0.5501718 ]\n",
      " [-0.51466351 -0.8280132  -2.36379255]\n",
      " [-0.94103688 -1.91833542  0.32504211]\n",
      " [ 0.96741795 -0.6342245  -0.21804519]]\n",
      "-0.5919724001945944 1.4774798535253286\n",
      "-------- random ints with start at 3 and end at 9-1 -----------\n",
      "[7 7 6 5 3 6 5 3 3 7]\n",
      "-------- random ints with start at 0 and end at 9-1 -----------\n",
      "[8 1 0 0 3 5 3 5 3 7]\n",
      "-------- random ints in [0,2,4,6,8] -----------\n",
      "[8 6 8 4 8 4 2 0 8 4]\n"
     ]
    }
   ],
   "metadata": {}
  },
  {
   "cell_type": "code",
   "execution_count": 91,
   "source": [
    "# solving AX = b;\r\n",
    "\r\n",
    "a = np.array([[1,1],[1.5,4]])\r\n",
    "b = np.array([2200, 5050])\r\n",
    "\r\n",
    "x = np.linalg.inv(a) @ b\r\n",
    "print(x)\r\n",
    "\r\n",
    "alternateWay = np.linalg.solve(a, b)\r\n",
    "print(alternateWay)"
   ],
   "outputs": [
    {
     "output_type": "stream",
     "name": "stdout",
     "text": [
      "[1500.  700.]\n",
      "[1500.  700.]\n"
     ]
    }
   ],
   "metadata": {}
  }
 ],
 "metadata": {
  "orig_nbformat": 4,
  "language_info": {
   "name": "python",
   "version": "3.8.8",
   "mimetype": "text/x-python",
   "codemirror_mode": {
    "name": "ipython",
    "version": 3
   },
   "pygments_lexer": "ipython3",
   "nbconvert_exporter": "python",
   "file_extension": ".py"
  },
  "kernelspec": {
   "name": "python3",
   "display_name": "Python 3.8.8 64-bit ('base': conda)"
  },
  "interpreter": {
   "hash": "6bd5f2c578ea81d4a7725a2bf64f4479fff78f85d5d01cd93f7e193f2574024b"
  }
 },
 "nbformat": 4,
 "nbformat_minor": 2
}